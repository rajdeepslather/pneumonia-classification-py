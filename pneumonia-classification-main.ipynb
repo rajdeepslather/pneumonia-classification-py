{
 "cells": [
  {
   "cell_type": "markdown",
   "metadata": {},
   "source": [
    "Notes to Group:\n",
    "* Normalization and transformations are from hw2 p1\n",
    "* only touched up to classification\n"
   ]
  },
  {
   "cell_type": "markdown",
   "metadata": {},
   "source": [
    "# Final Project: Pnuenomia Classification"
   ]
  },
  {
   "cell_type": "code",
   "execution_count": 1,
   "metadata": {},
   "outputs": [],
   "source": [
    "import os\n",
    "import numpy as np\n",
    "import torch\n",
    "import torch.nn as nn\n",
    "import torchvision\n",
    "from torchvision import transforms,models,datasets\n",
    "from sklearn.metrics import average_precision_score\n",
    "from PIL import Image, ImageDraw\n",
    "import matplotlib.pyplot as plt\n",
    "import scipy\n",
    "from classifier import Classifier\n",
    "\n",
    "%matplotlib inline\n",
    "%load_ext autoreload\n",
    "%autoreload 2"
   ]
  },
  {
   "cell_type": "markdown",
   "metadata": {},
   "source": [
    "## Reading Data"
   ]
  },
  {
   "cell_type": "markdown",
   "metadata": {},
   "source": [
    "### Loading Training Data"
   ]
  },
  {
   "cell_type": "code",
   "execution_count": 2,
   "metadata": {},
   "outputs": [],
   "source": [
    "# Transforms applied to the training data\n",
    "normalize = transforms.Normalize(mean=[0.485, 0.456, 0.406],\n",
    "                                     std= [0.229, 0.224, 0.225])\n",
    "\n",
    "ds_transforms = {\n",
    "        'train': transforms.Compose([\n",
    "                    transforms.Resize(227),\n",
    "                    transforms.CenterCrop(227),\n",
    "                    transforms.ToTensor(),\n",
    "                    normalize\n",
    "                ]),\n",
    "        'test': transforms.Compose([\n",
    "                    transforms.Resize(227),\n",
    "                    transforms.CenterCrop(227),\n",
    "                    transforms.ToTensor(),\n",
    "                    normalize,\n",
    "                ]),\n",
    "        'validate': transforms.Compose([\n",
    "                    transforms.Resize(227),\n",
    "                    transforms.CenterCrop(227),\n",
    "                    transforms.ToTensor(),\n",
    "                    normalize,\n",
    "                ])\n",
    "        }\n",
    "\n"
   ]
  },
  {
   "cell_type": "markdown",
   "metadata": {},
   "source": [
    "### Loading Train, Test, and Validation Data"
   ]
  },
  {
   "cell_type": "markdown",
   "metadata": {},
   "source": [
    "Load our pneumonia dataset into our program."
   ]
  },
  {
   "cell_type": "code",
   "execution_count": 3,
   "metadata": {},
   "outputs": [],
   "source": [
    "ds_dir = {\n",
    "    'train': 'data/train',\n",
    "    'test' : 'data/test',\n",
    "    'validate':  'data/val',\n",
    "}\n",
    "\n",
    "ds_set = {\n",
    "    'train': torchvision.datasets.ImageFolder(ds_dir['train'], ds_transforms['train']),\n",
    "    'test' : torchvision.datasets.ImageFolder(ds_dir['test'], ds_transforms['test']),\n",
    "    'validate':  torchvision.datasets.ImageFolder(ds_dir['validate'], ds_transforms['validate']),\n",
    "}\n",
    "# Reducing it cause there is some issue with dimentions, \n",
    "# I think the classifier gets [10, 3, 227, 227] instead of 10 * [3, 277, 277]\n",
    "# ds_batch_size = 32\n",
    "ds_batch_size = 1\n",
    "ds_loader = {\n",
    "    'train': torch.utils.data.DataLoader(ds_set['train'], batch_size=ds_batch_size,shuffle=True),\n",
    "    'test': torch.utils.data.DataLoader(ds_set['test'], batch_size=ds_batch_size,shuffle=True),\n",
    "    'validate': torch.utils.data.DataLoader(ds_set['test'], batch_size=ds_batch_size,shuffle=True),\n",
    "}\n",
    "ds_class = {ds_set['validate'].class_to_idx[i]: i for i in list(ds_set['validate'].class_to_idx.keys())}"
   ]
  },
  {
   "cell_type": "code",
   "execution_count": 4,
   "metadata": {},
   "outputs": [
    {
     "data": {
      "text/plain": [
       "{0: 'NORMAL', 1: 'PNEUMONIA'}"
      ]
     },
     "execution_count": 4,
     "metadata": {},
     "output_type": "execute_result"
    }
   ],
   "source": [
    "ds_class"
   ]
  },
  {
   "cell_type": "markdown",
   "metadata": {},
   "source": [
    "### Visualizing the Data "
   ]
  },
  {
   "cell_type": "code",
   "execution_count": 5,
   "metadata": {},
   "outputs": [
    {
     "name": "stderr",
     "output_type": "stream",
     "text": [
      "Clipping input data to the valid range for imshow with RGB data ([0..1] for floats or [0..255] for integers).\n"
     ]
    },
    {
     "data": {
      "image/png": "[encoded data removed]",
      "text/plain": [
       "<Figure size 72x288 with 1 Axes>"
      ]
     },
     "metadata": {},
     "output_type": "display_data"
    }
   ],
   "source": [
    "# display 8 images\n",
    "# num_images = 8\n",
    "# TODO: Display All 8 Images\n",
    "num_images = 1\n",
    "\n",
    "ds_iter = iter(ds_loader['train'])\n",
    "images, labels = ds_iter.next()\n",
    "images = images.numpy()\n",
    "\n",
    "#show the images, set up plt\n",
    "ds_figure = plt.figure(figsize=(num_images, 4))\n",
    "\n",
    "for i in np.arange(num_images):\n",
    "    ds_figure_subplot = ds_figure.add_subplot(2, 1, i+1, xticks=[], yticks=[]) #remove ticks and change layout\n",
    "#     ds_figure_subplot = ds_figure.add_subplot(2, num_images/2, i+1, xticks=[], yticks=[]) #remove ticks and change layout\n",
    "    image = np.transpose(images[i])\n",
    "    image = np.rot90(np.rot90(np.rot90(image)))#rotate images to be up right\n",
    "    \n",
    "    plt.imshow(image) #show image\n",
    "    ds_figure_subplot.set_title(ds_class[labels.tolist()[i]]) #add title of normal or pneumonia"
   ]
  },
  {
   "cell_type": "markdown",
   "metadata": {},
   "source": [
    "# Classification"
   ]
  },
  {
   "cell_type": "code",
   "execution_count": 6,
   "metadata": {},
   "outputs": [],
   "source": [
    "device = torch.device(\"cuda:0\" if torch.cuda.is_available() else \"cpu\")"
   ]
  },
  {
   "cell_type": "code",
   "execution_count": 7,
   "metadata": {},
   "outputs": [],
   "source": [
    "# ds_train = iter(ds_loader['train'])\n",
    "# train_loader = torch.utils.data.DataLoader(dataset=ds_train,\n",
    "#                                                batch_size=2, \n",
    "#                                                shuffle=True,\n",
    "#                                                num_workers=1)"
   ]
  },
  {
   "cell_type": "code",
   "execution_count": 8,
   "metadata": {},
   "outputs": [],
   "source": [
    "# ds_val = iter(ds_loader['validate'])\n",
    "# val_loader = torch.utils.data.DataLoader(dataset=ds_val,\n",
    "#                                                batch_size=2, \n",
    "#                                                shuffle=True,\n",
    "#                                                num_workers=1)"
   ]
  },
  {
   "cell_type": "code",
   "execution_count": 9,
   "metadata": {},
   "outputs": [],
   "source": [
    "def train_classifier(train_loader, classifier, criterion, optimizer):\n",
    "    classifier.train()\n",
    "    loss_ = 0.0\n",
    "    losses = []\n",
    "    for i, (images, labels) in enumerate(train_loader):\n",
    "        # TODO: Fix One Hot Encoding for Batches\n",
    "        labels = torch.nn.functional.one_hot(labels, 2)\n",
    "        images, labels = images.to(device), labels.to(device).float()\n",
    "        optimizer.zero_grad()\n",
    "        logits = classifier(images)\n",
    "        loss = criterion(logits, labels)\n",
    "        loss.backward()\n",
    "        optimizer.step()\n",
    "        losses.append(loss)\n",
    "    return torch.stack(losses).mean().item()"
   ]
  },
  {
   "cell_type": "code",
   "execution_count": 10,
   "metadata": {},
   "outputs": [],
   "source": [
    "def test_classifier(test_loader, classifier, criterion, print_ind_classes=True):\n",
    "    classifier.eval()\n",
    "    losses = []\n",
    "    with torch.no_grad():\n",
    "        y_true = np.zeros((0,2))\n",
    "        y_score = np.zeros((0,2))\n",
    "#         y_true = np.zeros((0,21))\n",
    "#         y_score = np.zeros((0,21))\n",
    "        for i, (images, labels) in enumerate(test_loader):\n",
    "            # TODO: Fix One Hot Encoding for Batches\n",
    "            labels = torch.nn.functional.one_hot(labels, 2)\n",
    "            images, labels = images.to(device), labels.to(device).float()\n",
    "            logits = classifier(images)\n",
    "            y_true = np.concatenate((y_true, labels.cpu().numpy()), axis=0)\n",
    "            y_score = np.concatenate((y_score, logits.cpu().numpy()), axis=0)\n",
    "            loss = criterion(logits, labels)\n",
    "            losses.append(loss)\n",
    "        aps = []\n",
    "        for i in range(y_true.shape[1]):\n",
    "            ap = average_precision_score(y_true[:, i], y_score[:, i])\n",
    "            if print_ind_classes:\n",
    "#                 print('-------  Class: {:<12}     AP: {:>8.4f}  -------'.format(VOC_CLASSES[i], ap))\n",
    "                print('-------  Class: {:<12}     AP: {:>8.4f}  -------'.format(ds_class[i], ap))\n",
    "            aps.append(ap)\n",
    "            \n",
    "        aps = np.array(aps)\n",
    "        mAP = np.mean(aps)\n",
    "        test_loss = torch.mean(torch.stack(losses))\n",
    "        print('mAP: {0:.4f}'.format(mAP))\n",
    "        print('Avg loss: {}'.format(test_loss))\n",
    "        \n",
    "    return mAP, test_loss, aps"
   ]
  },
  {
   "cell_type": "markdown",
   "metadata": {},
   "source": [
    "## [TODO Remove This] Modifying the network \n",
    "\n",
    "The network you are given as is will allow you to reach around 0.15-0.2 mAP. To meet the benchmark for this assignment you will need to improve the network. There are a variety of different approaches you should try:\n",
    "\n",
    "* Network architecture changes\n",
    "    * Number of layers: try adding layers to make your network deeper\n",
    "    * Batch normalization: adding batch norm between layers will likely give you a significant performance increase\n",
    "    * Residual connections: as you increase the depth of your network, you will find that having residual connections like those in ResNet architectures will be helpful\n",
    "* Optimizer: Instead of plain SGD, you may want to add a learning rate schedule, add momentum, or use one of the other optimizers you have learned about like Adam. Check the `torch.optim` package for other optimizers\n",
    "* Data augmentation: You should use the `torchvision.transforms` module to try adding random resized crops and horizontal flips of the input data. Check `transforms.RandomResizedCrop` and `transforms.RandomHorizontalFlip` for this\n",
    "* Epochs: Once you have found a generally good hyperparameter setting try training for more epochs\n",
    "* Loss function: You might want to add weighting to the `MultiLabelSoftMarginLoss` for classes that are less well represented or experiment with a different loss function\n",
    "\n"
   ]
  },
  {
   "cell_type": "code",
   "execution_count": 11,
   "metadata": {},
   "outputs": [],
   "source": [
    "classifier = Classifier().to(device)\n",
    "# You can can use this function to reload a network you have already saved previously\n",
    "#classifier.load_state_dict(torch.load('voc_classifier.pth'))"
   ]
  },
  {
   "cell_type": "code",
   "execution_count": 12,
   "metadata": {},
   "outputs": [],
   "source": [
    "# TODO: Use a different loss\n",
    "# criterion = nn.MultiLabelSoftMarginLoss()\n",
    "criterion = nn.SmoothL1Loss()\n",
    "optimizer = torch.optim.SGD(classifier.parameters(), lr=0.05, momentum=0.9)\n",
    "scheduler = torch.optim.lr_scheduler.StepLR(optimizer,step_size=45, gamma=0.1)"
   ]
  },
  {
   "cell_type": "code",
   "execution_count": 13,
   "metadata": {
    "scrolled": true
   },
   "outputs": [
    {
     "name": "stdout",
     "output_type": "stream",
     "text": [
      "tensor([[0, 1]])\n"
     ]
    }
   ],
   "source": [
    "for images, labels in ds_loader['train']:\n",
    "    print(torch.nn.functional.one_hot(labels, 2))\n",
    "    break"
   ]
  },
  {
   "cell_type": "code",
   "execution_count": 14,
   "metadata": {},
   "outputs": [
    {
     "name": "stdout",
     "output_type": "stream",
     "text": [
      "Starting epoch number 1\n",
      "Loss for Training on Epoch 1 is 0.10839267820119858\n",
      "Starting epoch number 2\n",
      "Loss for Training on Epoch 2 is 0.1071133017539978\n",
      "Starting epoch number 3\n",
      "Loss for Training on Epoch 3 is 0.10779975354671478\n",
      "-------  Class: NORMAL           AP:   0.3750  -------\n",
      "-------  Class: PNEUMONIA        AP:   0.6250  -------\n",
      "mAP: 0.5000\n",
      "Avg loss: 0.12492484599351883\n",
      "Evaluating classifier\n",
      "Mean Precision Score for Testing on Epoch 3 is 0.5\n",
      "val_loss for Testing on Epoch 3 is tensor(0.1249, device='cuda:0')\n",
      "Starting epoch number 4\n",
      "Loss for Training on Epoch 4 is 0.10740409791469574\n",
      "Starting epoch number 5\n",
      "Loss for Training on Epoch 5 is 0.10766942799091339\n",
      "Starting epoch number 6\n",
      "Loss for Training on Epoch 6 is 0.10846962779760361\n",
      "-------  Class: NORMAL           AP:   0.3750  -------\n",
      "-------  Class: PNEUMONIA        AP:   0.6250  -------\n",
      "mAP: 0.5000\n",
      "Avg loss: 0.11985185742378235\n",
      "Evaluating classifier\n",
      "Mean Precision Score for Testing on Epoch 6 is 0.5\n",
      "val_loss for Testing on Epoch 6 is tensor(0.1199, device='cuda:0')\n"
     ]
    }
   ],
   "source": [
    "# Training the Classifier\n",
    "# NUM_EPOCHS = 100\n",
    "NUM_EPOCHS = 6\n",
    "TEST_FREQUENCY = 3\n",
    "\n",
    "for epoch in range(1, NUM_EPOCHS+1):\n",
    "    print(\"Starting epoch number \" + str(epoch))\n",
    "    train_loss = train_classifier(ds_loader['train'], classifier, criterion, optimizer)\n",
    "    print(\"Loss for Training on Epoch \" +str(epoch) + \" is \"+ str(train_loss))\n",
    "    scheduler.step()\n",
    "    if(epoch%TEST_FREQUENCY==0):\n",
    "        mAP_val, val_loss, _ = test_classifier(ds_loader['validate'], classifier, criterion)\n",
    "        print('Evaluating classifier')\n",
    "        print(\"Mean Precision Score for Testing on Epoch \" +str(epoch) + \" is \"+ str(mAP_val))\n",
    "        print(\"val_loss for Testing on Epoch \" +str(epoch) + \" is \"+ str(val_loss))\n",
    "        "
   ]
  },
  {
   "cell_type": "code",
   "execution_count": 15,
   "metadata": {},
   "outputs": [],
   "source": [
    "# Save the clssifier network\n",
    "# Suggestion: you can save checkpoints of your network during training and reload them later\n",
    "torch.save(classifier.state_dict(), './voc_classifier.pth')"
   ]
  },
  {
   "cell_type": "markdown",
   "metadata": {},
   "source": [
    "# Evaluate on test set\n",
    "\n"
   ]
  },
  {
   "cell_type": "code",
   "execution_count": 16,
   "metadata": {},
   "outputs": [
    {
     "name": "stdout",
     "output_type": "stream",
     "text": [
      "-------  Class: NORMAL           AP:   0.3750  -------\n",
      "-------  Class: PNEUMONIA        AP:   0.6250  -------\n",
      "mAP: 0.5000\n",
      "Avg loss: 0.11985187232494354\n"
     ]
    }
   ],
   "source": [
    "# ds_test = VocDataset('VOCdevkit_2007/VOC2007test/','test', test_transform)\n",
    "\n",
    "# test_loader = torch.utils.data.DataLoader(dataset=ds_test,\n",
    "#                                                batch_size=50, \n",
    "#                                                shuffle=False,\n",
    "#                                                num_workers=1)\n",
    "\n",
    "mAP_test, test_loss, test_aps = test_classifier(ds_loader['test'], classifier, criterion)"
   ]
  },
  {
   "cell_type": "code",
   "execution_count": 17,
   "metadata": {},
   "outputs": [],
   "source": [
    "# output_submission_csv('my_solution.csv', test_aps)"
   ]
  }
 ],
 "metadata": {
  "kernelspec": {
   "display_name": "Python 3",
   "language": "python",
   "name": "python3"
  },
  "language_info": {
   "codemirror_mode": {
    "name": "ipython",
    "version": 3
   },
   "file_extension": ".py",
   "mimetype": "text/x-python",
   "name": "python",
   "nbconvert_exporter": "python",
   "pygments_lexer": "ipython3",
   "version": "3.7.3"
  }
 },
 "nbformat": 4,
 "nbformat_minor": 1
}
